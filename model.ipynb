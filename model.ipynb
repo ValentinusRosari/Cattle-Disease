{
 "cells": [
  {
   "cell_type": "code",
   "execution_count": 6,
   "metadata": {},
   "outputs": [
    {
     "data": {
      "text/html": [
       "<div>\n",
       "<style scoped>\n",
       "    .dataframe tbody tr th:only-of-type {\n",
       "        vertical-align: middle;\n",
       "    }\n",
       "\n",
       "    .dataframe tbody tr th {\n",
       "        vertical-align: top;\n",
       "    }\n",
       "\n",
       "    .dataframe thead th {\n",
       "        text-align: right;\n",
       "    }\n",
       "</style>\n",
       "<table border=\"1\" class=\"dataframe\">\n",
       "  <thead>\n",
       "    <tr style=\"text-align: right;\">\n",
       "      <th></th>\n",
       "      <th>Animal</th>\n",
       "      <th>Age</th>\n",
       "      <th>Temperature</th>\n",
       "      <th>Symptom 1</th>\n",
       "      <th>Symptom 2</th>\n",
       "      <th>Symptom 3</th>\n",
       "      <th>Disease</th>\n",
       "    </tr>\n",
       "  </thead>\n",
       "  <tbody>\n",
       "    <tr>\n",
       "      <th>0</th>\n",
       "      <td>cow</td>\n",
       "      <td>3</td>\n",
       "      <td>103.1</td>\n",
       "      <td>depression</td>\n",
       "      <td>painless lumps</td>\n",
       "      <td>loss of appetite</td>\n",
       "      <td>pneumonia</td>\n",
       "    </tr>\n",
       "    <tr>\n",
       "      <th>1</th>\n",
       "      <td>buffalo</td>\n",
       "      <td>13</td>\n",
       "      <td>104.5</td>\n",
       "      <td>painless lumps</td>\n",
       "      <td>loss of appetite</td>\n",
       "      <td>depression</td>\n",
       "      <td>lumpy virus</td>\n",
       "    </tr>\n",
       "    <tr>\n",
       "      <th>2</th>\n",
       "      <td>sheep</td>\n",
       "      <td>1</td>\n",
       "      <td>100.5</td>\n",
       "      <td>depression</td>\n",
       "      <td>painless lumps</td>\n",
       "      <td>loss of appetite</td>\n",
       "      <td>lumpy virus</td>\n",
       "    </tr>\n",
       "    <tr>\n",
       "      <th>3</th>\n",
       "      <td>cow</td>\n",
       "      <td>14</td>\n",
       "      <td>100.3</td>\n",
       "      <td>loss of appetite</td>\n",
       "      <td>swelling in limb</td>\n",
       "      <td>crackling sound</td>\n",
       "      <td>blackleg</td>\n",
       "    </tr>\n",
       "    <tr>\n",
       "      <th>4</th>\n",
       "      <td>sheep</td>\n",
       "      <td>2</td>\n",
       "      <td>103.6</td>\n",
       "      <td>painless lumps</td>\n",
       "      <td>loss of appetite</td>\n",
       "      <td>depression</td>\n",
       "      <td>pneumonia</td>\n",
       "    </tr>\n",
       "  </tbody>\n",
       "</table>\n",
       "</div>"
      ],
      "text/plain": [
       "    Animal  Age  Temperature         Symptom 1         Symptom 2  \\\n",
       "0      cow    3        103.1        depression    painless lumps   \n",
       "1  buffalo   13        104.5    painless lumps  loss of appetite   \n",
       "2    sheep    1        100.5        depression    painless lumps   \n",
       "3      cow   14        100.3  loss of appetite  swelling in limb   \n",
       "4    sheep    2        103.6    painless lumps  loss of appetite   \n",
       "\n",
       "          Symptom 3      Disease  \n",
       "0  loss of appetite    pneumonia  \n",
       "1        depression  lumpy virus  \n",
       "2  loss of appetite  lumpy virus  \n",
       "3   crackling sound     blackleg  \n",
       "4        depression    pneumonia  "
      ]
     },
     "execution_count": 6,
     "metadata": {},
     "output_type": "execute_result"
    }
   ],
   "source": [
    "import pandas as pd\n",
    "\n",
    "# Load the dataset\n",
    "file_path = 'animal_disease_dataset.csv'\n",
    "data = pd.read_csv(file_path)\n",
    "\n",
    "# Display the first few rows of the dataset\n",
    "data.head()"
   ]
  },
  {
   "cell_type": "code",
   "execution_count": 7,
   "metadata": {},
   "outputs": [
    {
     "data": {
      "text/html": [
       "<div>\n",
       "<style scoped>\n",
       "    .dataframe tbody tr th:only-of-type {\n",
       "        vertical-align: middle;\n",
       "    }\n",
       "\n",
       "    .dataframe tbody tr th {\n",
       "        vertical-align: top;\n",
       "    }\n",
       "\n",
       "    .dataframe thead th {\n",
       "        text-align: right;\n",
       "    }\n",
       "</style>\n",
       "<table border=\"1\" class=\"dataframe\">\n",
       "  <thead>\n",
       "    <tr style=\"text-align: right;\">\n",
       "      <th></th>\n",
       "      <th>Animal</th>\n",
       "      <th>Symptom 1</th>\n",
       "      <th>Symptom 2</th>\n",
       "      <th>Symptom 3</th>\n",
       "      <th>Disease</th>\n",
       "    </tr>\n",
       "  </thead>\n",
       "  <tbody>\n",
       "    <tr>\n",
       "      <th>0</th>\n",
       "      <td>cow</td>\n",
       "      <td>depression</td>\n",
       "      <td>painless lumps</td>\n",
       "      <td>loss of appetite</td>\n",
       "      <td>pneumonia</td>\n",
       "    </tr>\n",
       "    <tr>\n",
       "      <th>1</th>\n",
       "      <td>buffalo</td>\n",
       "      <td>painless lumps</td>\n",
       "      <td>loss of appetite</td>\n",
       "      <td>depression</td>\n",
       "      <td>lumpy virus</td>\n",
       "    </tr>\n",
       "    <tr>\n",
       "      <th>2</th>\n",
       "      <td>sheep</td>\n",
       "      <td>depression</td>\n",
       "      <td>painless lumps</td>\n",
       "      <td>loss of appetite</td>\n",
       "      <td>lumpy virus</td>\n",
       "    </tr>\n",
       "    <tr>\n",
       "      <th>3</th>\n",
       "      <td>cow</td>\n",
       "      <td>loss of appetite</td>\n",
       "      <td>swelling in limb</td>\n",
       "      <td>crackling sound</td>\n",
       "      <td>blackleg</td>\n",
       "    </tr>\n",
       "    <tr>\n",
       "      <th>4</th>\n",
       "      <td>sheep</td>\n",
       "      <td>painless lumps</td>\n",
       "      <td>loss of appetite</td>\n",
       "      <td>depression</td>\n",
       "      <td>pneumonia</td>\n",
       "    </tr>\n",
       "  </tbody>\n",
       "</table>\n",
       "</div>"
      ],
      "text/plain": [
       "    Animal         Symptom 1         Symptom 2         Symptom 3      Disease\n",
       "0      cow        depression    painless lumps  loss of appetite    pneumonia\n",
       "1  buffalo    painless lumps  loss of appetite        depression  lumpy virus\n",
       "2    sheep        depression    painless lumps  loss of appetite  lumpy virus\n",
       "3      cow  loss of appetite  swelling in limb   crackling sound     blackleg\n",
       "4    sheep    painless lumps  loss of appetite        depression    pneumonia"
      ]
     },
     "execution_count": 7,
     "metadata": {},
     "output_type": "execute_result"
    }
   ],
   "source": [
    "# Hapus kolom 'Age' dan 'Temperature'\n",
    "data_modified = data.drop(columns=['Age', 'Temperature'])\n",
    "\n",
    "# Tampilkan dataset yang telah dimodifikasi\n",
    "data = data_modified\n",
    "data.head()"
   ]
  },
  {
   "cell_type": "code",
   "execution_count": 8,
   "metadata": {},
   "outputs": [
    {
     "data": {
      "text/plain": [
       "Animal       0\n",
       "Symptom 1    0\n",
       "Symptom 2    0\n",
       "Symptom 3    0\n",
       "Disease      0\n",
       "dtype: int64"
      ]
     },
     "execution_count": 8,
     "metadata": {},
     "output_type": "execute_result"
    }
   ],
   "source": [
    "from sklearn.model_selection import train_test_split\n",
    "from sklearn.preprocessing import OneHotEncoder\n",
    "from sklearn.compose import ColumnTransformer\n",
    "from sklearn.pipeline import Pipeline\n",
    "from sklearn.impute import SimpleImputer\n",
    "\n",
    "# Check for missing values\n",
    "missing_values = data.isnull().sum()\n",
    "\n",
    "# Display missing values\n",
    "missing_values"
   ]
  },
  {
   "cell_type": "code",
   "execution_count": 9,
   "metadata": {},
   "outputs": [
    {
     "data": {
      "text/plain": [
       "((35022, 76), (8756, 76))"
      ]
     },
     "execution_count": 9,
     "metadata": {},
     "output_type": "execute_result"
    }
   ],
   "source": [
    "from sklearn.preprocessing import OneHotEncoder\n",
    "from sklearn.compose import ColumnTransformer\n",
    "from sklearn.pipeline import Pipeline\n",
    "from sklearn.model_selection import train_test_split\n",
    "\n",
    "# Separate features and target variable\n",
    "X = data.drop('Disease', axis=1)\n",
    "y = data['Disease']\n",
    "\n",
    "# Define the column transformer with one-hot encoding for categorical features\n",
    "preprocessor = ColumnTransformer(\n",
    "    transformers=[\n",
    "        ('cat', OneHotEncoder(), ['Animal', 'Symptom 1', 'Symptom 2', 'Symptom 3'])\n",
    "    ],\n",
    "    remainder='passthrough'\n",
    ")\n",
    "\n",
    "# Split the dataset into training and testing sets\n",
    "X_train, X_test, y_train, y_test = train_test_split(X, y, test_size=0.2, random_state=42)\n",
    "\n",
    "# Apply preprocessing\n",
    "X_train = preprocessor.fit_transform(X_train)\n",
    "X_test = preprocessor.transform(X_test)\n",
    "\n",
    "# Display the shapes of the processed data\n",
    "X_train.shape, X_test.shape\n"
   ]
  },
  {
   "cell_type": "code",
   "execution_count": 10,
   "metadata": {},
   "outputs": [
    {
     "data": {
      "text/plain": [
       "(0.8338282320694381,\n",
       " '                precision    recall  f1-score   support\\n\\n       anthrax       1.00      1.00      1.00      1972\\n      blackleg       1.00      1.00      1.00      1963\\nfoot and mouth       1.00      1.00      1.00      1963\\n   lumpy virus       0.49      0.28      0.36      1443\\n     pneumonia       0.49      0.71      0.58      1415\\n\\n      accuracy                           0.83      8756\\n     macro avg       0.80      0.80      0.79      8756\\n  weighted avg       0.83      0.83      0.83      8756\\n')"
      ]
     },
     "execution_count": 10,
     "metadata": {},
     "output_type": "execute_result"
    }
   ],
   "source": [
    "from sklearn.ensemble import RandomForestClassifier\n",
    "from sklearn.metrics import classification_report, accuracy_score\n",
    "\n",
    "# Initialize the Random Forest classifier\n",
    "model = RandomForestClassifier(n_estimators=100, random_state=42)\n",
    "\n",
    "# Train the model\n",
    "model.fit(X_train, y_train)\n",
    "\n",
    "# Predict on the testing set\n",
    "y_pred = model.predict(X_test)\n",
    "\n",
    "# Evaluate the model\n",
    "accuracy = accuracy_score(y_test, y_pred)\n",
    "report = classification_report(y_test, y_pred)\n",
    "\n",
    "# Display the accuracy and classification report\n",
    "accuracy, report\n"
   ]
  },
  {
   "cell_type": "code",
   "execution_count": 11,
   "metadata": {},
   "outputs": [
    {
     "data": {
      "text/plain": [
       "['preprocessor.pkl']"
      ]
     },
     "execution_count": 11,
     "metadata": {},
     "output_type": "execute_result"
    }
   ],
   "source": [
    "import joblib\n",
    "\n",
    "# Simpan model ke file .pkl\n",
    "model_filename = 'animal_disease_model.pkl'\n",
    "joblib.dump(model, model_filename)\n",
    "\n",
    "# Simpan preprocessor ke file .pkl\n",
    "preprocessor_filename = 'preprocessor.pkl'\n",
    "joblib.dump(preprocessor, preprocessor_filename)\n"
   ]
  }
 ],
 "metadata": {
  "kernelspec": {
   "display_name": "Python 3",
   "language": "python",
   "name": "python3"
  },
  "language_info": {
   "codemirror_mode": {
    "name": "ipython",
    "version": 3
   },
   "file_extension": ".py",
   "mimetype": "text/x-python",
   "name": "python",
   "nbconvert_exporter": "python",
   "pygments_lexer": "ipython3",
   "version": "3.11.2"
  }
 },
 "nbformat": 4,
 "nbformat_minor": 2
}
